{
 "cells": [
  {
   "cell_type": "markdown",
   "metadata": {
    "colab_type": "text",
    "id": "jak8c76wAoD-"
   },
   "source": [
    "![Texte alternatif…](https://eumas2017.ibisc.univ-evry.fr/img/ueve.jpg)\n"
   ]
  },
  {
   "cell_type": "markdown",
   "metadata": {
    "colab_type": "text",
    "id": "Eo5iSblpDAS0"
   },
   "source": [
    "# **Ayoub Abraich**"
   ]
  },
  {
   "cell_type": "markdown",
   "metadata": {
    "colab_type": "text",
    "id": "TbPKMXi0xZnO"
   },
   "source": [
    "\n",
    "# Projet de Machine Learning : NLP & Analyse Sentimnetal sur IMDB  "
   ]
  },
  {
   "cell_type": "markdown",
   "metadata": {
    "colab_type": "text",
    "id": "YHrhIRxgxZnR"
   },
   "source": [
    "\n",
    "## Plan :\n",
    "- Prétraitement des données\n",
    "- Analyse Sentimnetal en utilisant Bags Of Words & Random forest\n",
    "- Analyse Sentimnetal avec le deep learning\n",
    "\n",
    "\n",
    "\n"
   ]
  },
  {
   "cell_type": "markdown",
   "metadata": {
    "colab_type": "text",
    "id": "DRga4kmb_H_C"
   },
   "source": [
    "Afin d'éviter les erreurs d'importation des packages , j'ai utilisé Google Colab ."
   ]
  },
  {
   "cell_type": "markdown",
   "metadata": {
    "colab_type": "text",
    "id": "9wi5kfGdhK0R"
   },
   "source": [
    " ### Import des packages"
   ]
  },
  {
   "cell_type": "code",
   "execution_count": 41,
   "metadata": {
    "colab": {
     "base_uri": "https://localhost:8080/",
     "height": 51
    },
    "colab_type": "code",
    "id": "qr_Ey0dRxfDA",
    "outputId": "8d879fd8-8d58-4800-8ed7-8d2fb5a39e64"
   },
   "outputs": [
    {
     "name": "stdout",
     "output_type": "stream",
     "text": [
      "[nltk_data] Downloading package stopwords to /root/nltk_data...\n",
      "[nltk_data]   Package stopwords is already up-to-date!\n"
     ]
    }
   ],
   "source": [
    "import warnings\n",
    "warnings.filterwarnings(\"ignore\") \n",
    "\n",
    "import pandas as pd\n",
    "import numpy as np\n",
    "import re\n",
    "\n",
    "\n",
    "import nltk    \n",
    "nltk.download('stopwords')\n",
    "  \n",
    "from nltk.corpus import stopwords                   #Stopwords corpus\n",
    "from keras.preprocessing.sequence import pad_sequences\n",
    "\n",
    "from keras.datasets import imdb\n",
    "import matplotlib.pyplot as plt\n",
    "%matplotlib inline\n",
    "import seaborn as sns\n",
    "\n",
    "from keras.preprocessing import sequence\n",
    "\n",
    "\n",
    "from __future__ import absolute_import, division, print_function\n",
    "\n",
    "from keras import Sequential\n",
    "from keras.layers import Embedding, LSTM, Dense, Dropout\n",
    "\n",
    "import tensorflow as tf\n",
    "from tensorflow import keras\n",
    "\n",
    "from sklearn.feature_extraction.text import CountVectorizer\n",
    "from sklearn.feature_extraction.text import TfidfVectorizer\n",
    "from sklearn.feature_extraction.text import TfidfTransformer\n",
    "\n",
    "\n",
    "from sklearn.neighbors import KNeighborsClassifier\n",
    "from sklearn.naive_bayes import MultinomialNB, GaussianNB\n",
    "from sklearn.linear_model import SGDClassifier\n",
    "from sklearn.ensemble import RandomForestClassifier\n",
    "\n",
    "from sklearn.metrics import accuracy_score"
   ]
  },
  {
   "cell_type": "code",
   "execution_count": 9,
   "metadata": {
    "colab": {
     "base_uri": "https://localhost:8080/",
     "height": 34
    },
    "colab_type": "code",
    "id": "cXs2uuDn8Cnh",
    "outputId": "2a1cac71-7bf5-444e-8381-dfa327b03537"
   },
   "outputs": [
    {
     "name": "stdout",
     "output_type": "stream",
     "text": [
      "Drive already mounted at /content/drive; to attempt to forcibly remount, call drive.mount(\"/content/drive\", force_remount=True).\n"
     ]
    }
   ],
   "source": [
    "from google.colab import drive\n",
    "drive.mount('/content/drive')"
   ]
  },
  {
   "cell_type": "markdown",
   "metadata": {
    "colab_type": "text",
    "id": "1fr51oVCHRZU"
   },
   "source": [
    "\n",
    "# Prétraitement des données\n"
   ]
  },
  {
   "cell_type": "markdown",
   "metadata": {
    "colab_type": "text",
    "id": "tzToMR455LFB"
   },
   "source": [
    "### Analyse Sentimnetal en utilisant Bags Of Words & Random forest \n"
   ]
  },
  {
   "cell_type": "code",
   "execution_count": 10,
   "metadata": {
    "colab": {
     "base_uri": "https://localhost:8080/",
     "height": 85
    },
    "colab_type": "code",
    "id": "0_MniTifcYsM",
    "outputId": "67608bf2-666d-47b1-af13-3dc8f05bc6e8"
   },
   "outputs": [
    {
     "name": "stdout",
     "output_type": "stream",
     "text": [
      "--- Preprocessing de Data_train terminé ! ---\n",
      "\n",
      "--- Train Features crées ! --- \n",
      "\n"
     ]
    }
   ],
   "source": [
    "\n",
    "#  Lecture des données\n",
    "data_train = pd.read_csv('/content/drive/My Drive/Colab Notebooks/labeledTrainData.tsv',delimiter = \"\\t\")\n",
    "data_test = pd.read_csv('/content/drive/My Drive/Colab Notebooks/testData.tsv', delimiter = \"\\t\")\n",
    "\n",
    "\n",
    "############### Preprocessing : Data_train #########################\n",
    "\n",
    "def reviewWords(review):\n",
    "    data_train_Exclude_tags = re.sub(r'<[^<>]+>', \" \", review)      # Exclure les balises HTML\n",
    "    data_train_num = re.sub(r'[0-9]+', 'number', data_train_Exclude_tags)  # Conversion de nombres en \"NUMBER\"\n",
    "    data_train_lower = data_train_num.lower()              # Conversion en minuscule.\n",
    "    data_train_split = data_train_lower.split()            # Diviser en mots individuels\n",
    "    stopWords = set(stopwords.words(\"english\") )\n",
    "\n",
    "    meaningful_words = [w for w in data_train_split if not w in stopWords]     # Supprimer les stop words.\n",
    "    \n",
    "    return( \" \".join( meaningful_words ))   \n",
    "\n",
    "# Nettoyage de données et traitement de texte.\n",
    "cleanWords = []\n",
    "for i in range(data_train['review'].size):\n",
    "    cleanWords.append( reviewWords( data_train[\"review\"][i] ))\n",
    "print(\"--- Preprocessing de Data_train terminé ! ---\\n\")\n",
    "\n",
    "# Creation des  features à partir des bags of words.\n",
    "vectorizer = CountVectorizer(analyzer = \"word\", tokenizer = None, preprocessor = None, stop_words = None, max_features = 5000)\n",
    "data_train_features = vectorizer.fit_transform(cleanWords).toarray()\n",
    "print(\"--- Train Features crées ! --- \\n\")"
   ]
  },
  {
   "cell_type": "code",
   "execution_count": 11,
   "metadata": {
    "colab": {
     "base_uri": "https://localhost:8080/",
     "height": 85
    },
    "colab_type": "code",
    "id": "gLXCQ_wb3Is-",
    "outputId": "e247392a-f259-41e0-caff-f299b09d1292"
   },
   "outputs": [
    {
     "name": "stdout",
     "output_type": "stream",
     "text": [
      "--- Preprocessing de Data_test terminé ! ---\n",
      "\n",
      "--- Test Features crées !--- \n",
      "\n"
     ]
    }
   ],
   "source": [
    "############### Preprocessing : Data_test #########################\n",
    "# Traitons toutes les revues de test ensemble.\n",
    "testcleanWords = []\n",
    "for i in range(data_test['review'].size):\n",
    "    testcleanWords.append( reviewWords( data_test[\"review\"][i] ))\n",
    "print(\"--- Preprocessing de Data_test terminé ! ---\\n\")\n",
    "\n",
    "# Créer des features à partir de bags of words.\n",
    "data_test_features = vectorizer.transform(testcleanWords).toarray()\n",
    "print(\"--- Test Features crées !--- \\n\")\n",
    "\n",
    "\n",
    "\n"
   ]
  },
  {
   "cell_type": "code",
   "execution_count": 0,
   "metadata": {
    "colab": {},
    "colab_type": "code",
    "id": "U7jC7tTXwg-g"
   },
   "outputs": [],
   "source": []
  },
  {
   "cell_type": "code",
   "execution_count": 0,
   "metadata": {
    "colab": {},
    "colab_type": "code",
    "id": "H8oY8t3Sn-bp"
   },
   "outputs": [],
   "source": [
    "\n",
    "#################### Fonction : pred qui retourne les valeurs prédites + le score de prédiciton ##########\n",
    "\n",
    "def pred(data_train_features,data_train,data_test_features,data_test,clf,hyp):\n",
    "     # Apprentissage\n",
    "    print(\"Entraîner le classificateur :\\n\")\n",
    "    classifier = clf(n_estimators = hyp)\n",
    "    fit = classifier.fit(data_train_features, data_train[\"sentiment\"])\n",
    "    print(\"......... : Done ! \\n\")\n",
    "\n",
    "    score_train = classifier.score(data_train_features, data_train[\"sentiment\"])\n",
    "\n",
    "    print(\"Score_train: %f\" %(score_train))\n",
    "    # Predictions.\n",
    "    result = classifier.predict(data_test_features)\n",
    "    score_test = classifier.score(data_test_features, result)\n",
    "    print(\"Score_test: %f\" %(score_test))\n",
    "\n",
    "    # Mettre les valeurs prédites dans un data frame avec une colonne id et une colonne de sentiments.(0/1)\n",
    "    output = pd.DataFrame(data = {\"id\": data_test[\"id\"], \"sentiment\": result} )\n",
    "    return output\n",
    "  "
   ]
  },
  {
   "cell_type": "code",
   "execution_count": 13,
   "metadata": {
    "colab": {
     "base_uri": "https://localhost:8080/",
     "height": 2071
    },
    "colab_type": "code",
    "id": "w1W9DZjyqmew",
    "outputId": "e43c25f7-7db3-404f-91ec-d6b106ff4362"
   },
   "outputs": [
    {
     "name": "stdout",
     "output_type": "stream",
     "text": [
      "Entraîner le classificateur :\n",
      "\n",
      "......... : Done ! \n",
      "\n",
      "Score_train: 1.000000\n",
      "Score_test: 1.000000\n"
     ]
    },
    {
     "data": {
      "text/html": [
       "<div>\n",
       "<style scoped>\n",
       "    .dataframe tbody tr th:only-of-type {\n",
       "        vertical-align: middle;\n",
       "    }\n",
       "\n",
       "    .dataframe tbody tr th {\n",
       "        vertical-align: top;\n",
       "    }\n",
       "\n",
       "    .dataframe thead th {\n",
       "        text-align: right;\n",
       "    }\n",
       "</style>\n",
       "<table border=\"1\" class=\"dataframe\">\n",
       "  <thead>\n",
       "    <tr style=\"text-align: right;\">\n",
       "      <th></th>\n",
       "      <th>id</th>\n",
       "      <th>sentiment</th>\n",
       "    </tr>\n",
       "  </thead>\n",
       "  <tbody>\n",
       "    <tr>\n",
       "      <th>0</th>\n",
       "      <td>12311_10</td>\n",
       "      <td>1</td>\n",
       "    </tr>\n",
       "    <tr>\n",
       "      <th>1</th>\n",
       "      <td>8348_2</td>\n",
       "      <td>0</td>\n",
       "    </tr>\n",
       "    <tr>\n",
       "      <th>2</th>\n",
       "      <td>5828_4</td>\n",
       "      <td>1</td>\n",
       "    </tr>\n",
       "    <tr>\n",
       "      <th>3</th>\n",
       "      <td>7186_2</td>\n",
       "      <td>1</td>\n",
       "    </tr>\n",
       "    <tr>\n",
       "      <th>4</th>\n",
       "      <td>12128_7</td>\n",
       "      <td>1</td>\n",
       "    </tr>\n",
       "    <tr>\n",
       "      <th>5</th>\n",
       "      <td>2913_8</td>\n",
       "      <td>0</td>\n",
       "    </tr>\n",
       "    <tr>\n",
       "      <th>6</th>\n",
       "      <td>4396_1</td>\n",
       "      <td>0</td>\n",
       "    </tr>\n",
       "    <tr>\n",
       "      <th>7</th>\n",
       "      <td>395_2</td>\n",
       "      <td>1</td>\n",
       "    </tr>\n",
       "    <tr>\n",
       "      <th>8</th>\n",
       "      <td>10616_1</td>\n",
       "      <td>0</td>\n",
       "    </tr>\n",
       "    <tr>\n",
       "      <th>9</th>\n",
       "      <td>9074_9</td>\n",
       "      <td>0</td>\n",
       "    </tr>\n",
       "    <tr>\n",
       "      <th>10</th>\n",
       "      <td>9252_3</td>\n",
       "      <td>0</td>\n",
       "    </tr>\n",
       "    <tr>\n",
       "      <th>11</th>\n",
       "      <td>9896_9</td>\n",
       "      <td>1</td>\n",
       "    </tr>\n",
       "    <tr>\n",
       "      <th>12</th>\n",
       "      <td>574_4</td>\n",
       "      <td>0</td>\n",
       "    </tr>\n",
       "    <tr>\n",
       "      <th>13</th>\n",
       "      <td>11182_8</td>\n",
       "      <td>1</td>\n",
       "    </tr>\n",
       "    <tr>\n",
       "      <th>14</th>\n",
       "      <td>11656_4</td>\n",
       "      <td>0</td>\n",
       "    </tr>\n",
       "    <tr>\n",
       "      <th>15</th>\n",
       "      <td>2322_4</td>\n",
       "      <td>1</td>\n",
       "    </tr>\n",
       "    <tr>\n",
       "      <th>16</th>\n",
       "      <td>8703_1</td>\n",
       "      <td>0</td>\n",
       "    </tr>\n",
       "    <tr>\n",
       "      <th>17</th>\n",
       "      <td>7483_1</td>\n",
       "      <td>0</td>\n",
       "    </tr>\n",
       "    <tr>\n",
       "      <th>18</th>\n",
       "      <td>6007_10</td>\n",
       "      <td>1</td>\n",
       "    </tr>\n",
       "    <tr>\n",
       "      <th>19</th>\n",
       "      <td>12424_4</td>\n",
       "      <td>0</td>\n",
       "    </tr>\n",
       "    <tr>\n",
       "      <th>20</th>\n",
       "      <td>4672_1</td>\n",
       "      <td>0</td>\n",
       "    </tr>\n",
       "    <tr>\n",
       "      <th>21</th>\n",
       "      <td>10841_3</td>\n",
       "      <td>0</td>\n",
       "    </tr>\n",
       "    <tr>\n",
       "      <th>22</th>\n",
       "      <td>8954_7</td>\n",
       "      <td>1</td>\n",
       "    </tr>\n",
       "    <tr>\n",
       "      <th>23</th>\n",
       "      <td>7392_1</td>\n",
       "      <td>0</td>\n",
       "    </tr>\n",
       "    <tr>\n",
       "      <th>24</th>\n",
       "      <td>10288_8</td>\n",
       "      <td>1</td>\n",
       "    </tr>\n",
       "    <tr>\n",
       "      <th>25</th>\n",
       "      <td>5343_4</td>\n",
       "      <td>0</td>\n",
       "    </tr>\n",
       "    <tr>\n",
       "      <th>26</th>\n",
       "      <td>4950_1</td>\n",
       "      <td>0</td>\n",
       "    </tr>\n",
       "    <tr>\n",
       "      <th>27</th>\n",
       "      <td>9257_4</td>\n",
       "      <td>0</td>\n",
       "    </tr>\n",
       "    <tr>\n",
       "      <th>28</th>\n",
       "      <td>8689_3</td>\n",
       "      <td>0</td>\n",
       "    </tr>\n",
       "    <tr>\n",
       "      <th>29</th>\n",
       "      <td>4480_2</td>\n",
       "      <td>0</td>\n",
       "    </tr>\n",
       "    <tr>\n",
       "      <th>...</th>\n",
       "      <td>...</td>\n",
       "      <td>...</td>\n",
       "    </tr>\n",
       "    <tr>\n",
       "      <th>24970</th>\n",
       "      <td>6857_10</td>\n",
       "      <td>1</td>\n",
       "    </tr>\n",
       "    <tr>\n",
       "      <th>24971</th>\n",
       "      <td>11091_8</td>\n",
       "      <td>1</td>\n",
       "    </tr>\n",
       "    <tr>\n",
       "      <th>24972</th>\n",
       "      <td>4167_2</td>\n",
       "      <td>1</td>\n",
       "    </tr>\n",
       "    <tr>\n",
       "      <th>24973</th>\n",
       "      <td>679_4</td>\n",
       "      <td>0</td>\n",
       "    </tr>\n",
       "    <tr>\n",
       "      <th>24974</th>\n",
       "      <td>10147_1</td>\n",
       "      <td>0</td>\n",
       "    </tr>\n",
       "    <tr>\n",
       "      <th>24975</th>\n",
       "      <td>6875_1</td>\n",
       "      <td>0</td>\n",
       "    </tr>\n",
       "    <tr>\n",
       "      <th>24976</th>\n",
       "      <td>923_10</td>\n",
       "      <td>1</td>\n",
       "    </tr>\n",
       "    <tr>\n",
       "      <th>24977</th>\n",
       "      <td>6200_8</td>\n",
       "      <td>0</td>\n",
       "    </tr>\n",
       "    <tr>\n",
       "      <th>24978</th>\n",
       "      <td>7208_8</td>\n",
       "      <td>1</td>\n",
       "    </tr>\n",
       "    <tr>\n",
       "      <th>24979</th>\n",
       "      <td>5363_8</td>\n",
       "      <td>1</td>\n",
       "    </tr>\n",
       "    <tr>\n",
       "      <th>24980</th>\n",
       "      <td>4067_8</td>\n",
       "      <td>0</td>\n",
       "    </tr>\n",
       "    <tr>\n",
       "      <th>24981</th>\n",
       "      <td>1773_7</td>\n",
       "      <td>1</td>\n",
       "    </tr>\n",
       "    <tr>\n",
       "      <th>24982</th>\n",
       "      <td>1498_10</td>\n",
       "      <td>1</td>\n",
       "    </tr>\n",
       "    <tr>\n",
       "      <th>24983</th>\n",
       "      <td>10497_10</td>\n",
       "      <td>0</td>\n",
       "    </tr>\n",
       "    <tr>\n",
       "      <th>24984</th>\n",
       "      <td>3444_10</td>\n",
       "      <td>1</td>\n",
       "    </tr>\n",
       "    <tr>\n",
       "      <th>24985</th>\n",
       "      <td>588_2</td>\n",
       "      <td>0</td>\n",
       "    </tr>\n",
       "    <tr>\n",
       "      <th>24986</th>\n",
       "      <td>9678_9</td>\n",
       "      <td>1</td>\n",
       "    </tr>\n",
       "    <tr>\n",
       "      <th>24987</th>\n",
       "      <td>1983_9</td>\n",
       "      <td>0</td>\n",
       "    </tr>\n",
       "    <tr>\n",
       "      <th>24988</th>\n",
       "      <td>5012_3</td>\n",
       "      <td>0</td>\n",
       "    </tr>\n",
       "    <tr>\n",
       "      <th>24989</th>\n",
       "      <td>12240_2</td>\n",
       "      <td>1</td>\n",
       "    </tr>\n",
       "    <tr>\n",
       "      <th>24990</th>\n",
       "      <td>5071_2</td>\n",
       "      <td>0</td>\n",
       "    </tr>\n",
       "    <tr>\n",
       "      <th>24991</th>\n",
       "      <td>5078_2</td>\n",
       "      <td>0</td>\n",
       "    </tr>\n",
       "    <tr>\n",
       "      <th>24992</th>\n",
       "      <td>10069_3</td>\n",
       "      <td>1</td>\n",
       "    </tr>\n",
       "    <tr>\n",
       "      <th>24993</th>\n",
       "      <td>7407_8</td>\n",
       "      <td>1</td>\n",
       "    </tr>\n",
       "    <tr>\n",
       "      <th>24994</th>\n",
       "      <td>7207_1</td>\n",
       "      <td>0</td>\n",
       "    </tr>\n",
       "    <tr>\n",
       "      <th>24995</th>\n",
       "      <td>2155_10</td>\n",
       "      <td>1</td>\n",
       "    </tr>\n",
       "    <tr>\n",
       "      <th>24996</th>\n",
       "      <td>59_10</td>\n",
       "      <td>1</td>\n",
       "    </tr>\n",
       "    <tr>\n",
       "      <th>24997</th>\n",
       "      <td>2531_1</td>\n",
       "      <td>0</td>\n",
       "    </tr>\n",
       "    <tr>\n",
       "      <th>24998</th>\n",
       "      <td>7772_8</td>\n",
       "      <td>1</td>\n",
       "    </tr>\n",
       "    <tr>\n",
       "      <th>24999</th>\n",
       "      <td>11465_10</td>\n",
       "      <td>1</td>\n",
       "    </tr>\n",
       "  </tbody>\n",
       "</table>\n",
       "<p>25000 rows × 2 columns</p>\n",
       "</div>"
      ],
      "text/plain": [
       "             id  sentiment\n",
       "0      12311_10          1\n",
       "1        8348_2          0\n",
       "2        5828_4          1\n",
       "3        7186_2          1\n",
       "4       12128_7          1\n",
       "5        2913_8          0\n",
       "6        4396_1          0\n",
       "7         395_2          1\n",
       "8       10616_1          0\n",
       "9        9074_9          0\n",
       "10       9252_3          0\n",
       "11       9896_9          1\n",
       "12        574_4          0\n",
       "13      11182_8          1\n",
       "14      11656_4          0\n",
       "15       2322_4          1\n",
       "16       8703_1          0\n",
       "17       7483_1          0\n",
       "18      6007_10          1\n",
       "19      12424_4          0\n",
       "20       4672_1          0\n",
       "21      10841_3          0\n",
       "22       8954_7          1\n",
       "23       7392_1          0\n",
       "24      10288_8          1\n",
       "25       5343_4          0\n",
       "26       4950_1          0\n",
       "27       9257_4          0\n",
       "28       8689_3          0\n",
       "29       4480_2          0\n",
       "...         ...        ...\n",
       "24970   6857_10          1\n",
       "24971   11091_8          1\n",
       "24972    4167_2          1\n",
       "24973     679_4          0\n",
       "24974   10147_1          0\n",
       "24975    6875_1          0\n",
       "24976    923_10          1\n",
       "24977    6200_8          0\n",
       "24978    7208_8          1\n",
       "24979    5363_8          1\n",
       "24980    4067_8          0\n",
       "24981    1773_7          1\n",
       "24982   1498_10          1\n",
       "24983  10497_10          0\n",
       "24984   3444_10          1\n",
       "24985     588_2          0\n",
       "24986    9678_9          1\n",
       "24987    1983_9          0\n",
       "24988    5012_3          0\n",
       "24989   12240_2          1\n",
       "24990    5071_2          0\n",
       "24991    5078_2          0\n",
       "24992   10069_3          1\n",
       "24993    7407_8          1\n",
       "24994    7207_1          0\n",
       "24995   2155_10          1\n",
       "24996     59_10          1\n",
       "24997    2531_1          0\n",
       "24998    7772_8          1\n",
       "24999  11465_10          1\n",
       "\n",
       "[25000 rows x 2 columns]"
      ]
     },
     "execution_count": 13,
     "metadata": {
      "tags": []
     },
     "output_type": "execute_result"
    }
   ],
   "source": [
    "############# Classifieur = Random Forest ################\n",
    "\n",
    "clf1=RandomForestClassifier\n",
    "hyp1=100\n",
    "\n",
    "pred(data_train_features,data_train,data_test_features,data_test,clf1,hyp1)"
   ]
  },
  {
   "cell_type": "markdown",
   "metadata": {
    "colab_type": "text",
    "id": "uA8ojP_-7R_e"
   },
   "source": [
    "Maintenant , on va importer les données IMDB déja hachées disponible sur Keras afin de classifier les reviews en utilisant deep learning ."
   ]
  },
  {
   "cell_type": "markdown",
   "metadata": {
    "colab_type": "text",
    "id": "4QRgTevQ-Hw4"
   },
   "source": [
    "# Deep learning"
   ]
  },
  {
   "cell_type": "markdown",
   "metadata": {
    "colab_type": "text",
    "id": "yv2XIwi5hQ_g"
   },
   "source": [
    "## Import des données haché**e**s"
   ]
  },
  {
   "cell_type": "markdown",
   "metadata": {
    "colab_type": "text",
    "id": "Y3dN2qDbxZnf"
   },
   "source": [
    "Jeu de données de 25 000 critiques de films de IMDB, étiqueté par sentiment (positif / négatif). Les revues ont été prétraitées et chaque critique est codée sous forme d'une séquence d'index de mots (entiers). Pour plus de commodité, les mots sont indexés par fréquence globale dans l'ensemble de données, de sorte que, par exemple, l'entier \"3\" code le troisième mot le plus fréquent dans les données. Cela permet des opérations de filtrage rapides telles que: \"ne considérez que les 10 000 mots les plus communs, mais éliminez les 20 mots les plus courants\"."
   ]
  },
  {
   "cell_type": "code",
   "execution_count": 14,
   "metadata": {
    "colab": {
     "base_uri": "https://localhost:8080/",
     "height": 51
    },
    "colab_type": "code",
    "id": "IMI69GNisMDU",
    "outputId": "3c95d8a1-4c83-4aa7-aea4-b4ebafef3ce9"
   },
   "outputs": [
    {
     "name": "stdout",
     "output_type": "stream",
     "text": [
      "Downloading data from https://s3.amazonaws.com/text-datasets/imdb.npz\n",
      "17465344/17464789 [==============================] - 0s 0us/step\n"
     ]
    }
   ],
   "source": [
    "vocab_size = 10000 #vocab size\n",
    "\n",
    "(train_data, train_labels), (test_data, test_labels) = imdb.load_data(num_words=vocab_size)"
   ]
  },
  {
   "cell_type": "markdown",
   "metadata": {
    "colab_type": "text",
    "id": "ejrKHn4-sZ98"
   },
   "source": [
    "L'argument num_words = 10000 conserve les 10 000 mots les plus fréquents dans les données d'apprentissage. Les mots rares sont supprimés pour que la taille des données reste gérable.\n"
   ]
  },
  {
   "cell_type": "markdown",
   "metadata": {
    "colab_type": "text",
    "id": "qJxntUdrskqG"
   },
   "source": [
    "## Exploration des données\n"
   ]
  },
  {
   "cell_type": "markdown",
   "metadata": {
    "colab_type": "text",
    "id": "UFPqde19s20O"
   },
   "source": [
    "Prenons un moment pour comprendre le format des données. L'ensemble de données est prétraité: chaque exemple est un tableau d'entiers représentant les mots de la critique du film. Chaque étiquette est une valeur entière égale à 0 ou 1, 0 étant un avis négatif et 1 un avis positif.\n"
   ]
  },
  {
   "cell_type": "code",
   "execution_count": 15,
   "metadata": {
    "colab": {
     "base_uri": "https://localhost:8080/",
     "height": 34
    },
    "colab_type": "code",
    "id": "FoYlg8NHxZng",
    "outputId": "71885c8d-e665-44eb-dbd4-3cdda7287a9c"
   },
   "outputs": [
    {
     "name": "stdout",
     "output_type": "stream",
     "text": [
      "Entrées d'apprentissage: 25000, labels: 25000\n"
     ]
    }
   ],
   "source": [
    "print(\"Entrées d'apprentissage: {}, labels: {}\".format(len(train_data), len(train_labels)))\n"
   ]
  },
  {
   "cell_type": "markdown",
   "metadata": {
    "colab_type": "text",
    "id": "JScqY0lwsnhp"
   },
   "source": [
    "Le texte des critiques a été converti en nombres entiers, chaque nombre entier représentant un mot spécifique dans un dictionnaire. Voici à quoi ressemble le premier commentaire:\n"
   ]
  },
  {
   "cell_type": "code",
   "execution_count": 16,
   "metadata": {
    "colab": {
     "base_uri": "https://localhost:8080/",
     "height": 54
    },
    "colab_type": "code",
    "id": "h662ywwUw7jq",
    "outputId": "8eda87f4-4b04-4163-ee9a-d0284a4918e2"
   },
   "outputs": [
    {
     "name": "stdout",
     "output_type": "stream",
     "text": [
      "[1, 14, 22, 16, 43, 530, 973, 1622, 1385, 65, 458, 4468, 66, 3941, 4, 173, 36, 256, 5, 25, 100, 43, 838, 112, 50, 670, 2, 9, 35, 480, 284, 5, 150, 4, 172, 112, 167, 2, 336, 385, 39, 4, 172, 4536, 1111, 17, 546, 38, 13, 447, 4, 192, 50, 16, 6, 147, 2025, 19, 14, 22, 4, 1920, 4613, 469, 4, 22, 71, 87, 12, 16, 43, 530, 38, 76, 15, 13, 1247, 4, 22, 17, 515, 17, 12, 16, 626, 18, 2, 5, 62, 386, 12, 8, 316, 8, 106, 5, 4, 2223, 5244, 16, 480, 66, 3785, 33, 4, 130, 12, 16, 38, 619, 5, 25, 124, 51, 36, 135, 48, 25, 1415, 33, 6, 22, 12, 215, 28, 77, 52, 5, 14, 407, 16, 82, 2, 8, 4, 107, 117, 5952, 15, 256, 4, 2, 7, 3766, 5, 723, 36, 71, 43, 530, 476, 26, 400, 317, 46, 7, 4, 2, 1029, 13, 104, 88, 4, 381, 15, 297, 98, 32, 2071, 56, 26, 141, 6, 194, 7486, 18, 4, 226, 22, 21, 134, 476, 26, 480, 5, 144, 30, 5535, 18, 51, 36, 28, 224, 92, 25, 104, 4, 226, 65, 16, 38, 1334, 88, 12, 16, 283, 5, 16, 4472, 113, 103, 32, 15, 16, 5345, 19, 178, 32]\n"
     ]
    }
   ],
   "source": [
    "print(train_data[0])\n"
   ]
  },
  {
   "cell_type": "markdown",
   "metadata": {
    "colab_type": "text",
    "id": "AN_LRQ9NkOjs"
   },
   "source": [
    "Les critiques de films peuvent être de différentes longueurs. Le code ci-dessous indique le nombre de mots dans les première et deuxième évaluations. Comme les entrées dans un réseau de neurones doivent avoir la même longueur, nous devrons résoudre ce problème plus tard.\n"
   ]
  },
  {
   "cell_type": "code",
   "execution_count": 17,
   "metadata": {
    "colab": {
     "base_uri": "https://localhost:8080/",
     "height": 34
    },
    "colab_type": "code",
    "id": "FlQq0SUepQbd",
    "outputId": "e821ccdc-08ab-4924-d6fe-0a352d3c7512"
   },
   "outputs": [
    {
     "data": {
      "text/plain": [
       "(218, 189)"
      ]
     },
     "execution_count": 17,
     "metadata": {
      "tags": []
     },
     "output_type": "execute_result"
    }
   ],
   "source": [
    "len(train_data[0]), len(train_data[1])\n"
   ]
  },
  {
   "cell_type": "markdown",
   "metadata": {
    "colab_type": "text",
    "id": "rTX3heEtu0b2"
   },
   "source": [
    "## Reconstruire le text"
   ]
  },
  {
   "cell_type": "markdown",
   "metadata": {
    "colab_type": "text",
    "id": "tPVPKWT1uAPw"
   },
   "source": [
    "Il peut être utile de savoir comment convertir les entiers en texte. Ici, nous allons créer une fonction d'assistance pour interroger un objet dictionnaire contenant le mappage entier à chaîne:\n"
   ]
  },
  {
   "cell_type": "code",
   "execution_count": 18,
   "metadata": {
    "colab": {
     "base_uri": "https://localhost:8080/",
     "height": 51
    },
    "colab_type": "code",
    "id": "hRQT-m7bwBeH",
    "outputId": "fb1fb524-d595-43de-e368-1a927d9b4bdc"
   },
   "outputs": [
    {
     "name": "stdout",
     "output_type": "stream",
     "text": [
      "Downloading data from https://s3.amazonaws.com/text-datasets/imdb_word_index.json\n",
      "1646592/1641221 [==============================] - 0s 0us/step\n"
     ]
    }
   ],
   "source": [
    "# Un dictionnaire mappant des mots sur un index entier\n",
    "\n",
    "word_index = imdb.get_word_index()\n",
    "\n",
    "# Les premiers index sont réservés\n",
    "word_index = {k:(v+3) for k,v in word_index.items()} \n",
    "word_index[\"<PAD>\"] = 0\n",
    "word_index[\"<START>\"] = 1\n",
    "word_index[\"<UNK>\"] = 2  # inconnu\n",
    "word_index[\"<UNUSED>\"] = 3\n",
    "\n",
    "reverse_word_index = dict([(value, key) for (key, value) in word_index.items()])\n",
    "\n",
    "def decode_review(text):\n",
    "    return ' '.join([reverse_word_index.get(i, '?') for i in text])"
   ]
  },
  {
   "cell_type": "markdown",
   "metadata": {
    "colab_type": "text",
    "id": "tag6cS2buci4"
   },
   "source": [
    "Nous pouvons maintenant utiliser la fonction decode_review pour afficher le texte du premier review:\n"
   ]
  },
  {
   "cell_type": "code",
   "execution_count": 19,
   "metadata": {
    "colab": {
     "base_uri": "https://localhost:8080/",
     "height": 54
    },
    "colab_type": "code",
    "id": "aRRcQzVjrARP",
    "outputId": "da8c9c6a-e03e-41a7-f2eb-a571cedd0ca9"
   },
   "outputs": [
    {
     "data": {
      "text/plain": [
       "\"<START> this film was just brilliant casting location scenery story direction everyone's really suited the part they played and you could just imagine being there robert <UNK> is an amazing actor and now the same being director <UNK> father came from the same scottish island as myself so i loved the fact there was a real connection with this film the witty remarks throughout the film were great it was just brilliant so much that i bought the film as soon as it was released for <UNK> and would recommend it to everyone to watch and the fly fishing was amazing really cried at the end it was so sad and you know what they say if you cry at a film it must have been good and this definitely was also <UNK> to the two little boy's that played the <UNK> of norman and paul they were just brilliant children are often left out of the <UNK> list i think because the stars that play them all grown up are such a big profile for the whole film but these children are amazing and should be praised for what they have done don't you think the whole story was so lovely because it was true and was someone's life after all that was shared with us all\""
      ]
     },
     "execution_count": 19,
     "metadata": {
      "tags": []
     },
     "output_type": "execute_result"
    }
   ],
   "source": [
    "decode_review(train_data[0])\n"
   ]
  },
  {
   "cell_type": "markdown",
   "metadata": {
    "colab_type": "text",
    "id": "y8xAnnCTupr7"
   },
   "source": [
    "\n",
    "\n",
    "## Préparer les données\n"
   ]
  },
  {
   "cell_type": "markdown",
   "metadata": {
    "colab_type": "text",
    "id": "m4Bvas4jwhRu"
   },
   "source": [
    "Nous voulons utiliser le deep learning pour classifier les reviews , mais comme nous avons déja mentionné , les critiques de films peuvent être de différentes longueurs : nous pouvons remplir les tableaux pour qu'ils aient tous la même longueur, puis créer un tenseur entier de forme max_length * num_reviews avec la fonction pad_sequences pour standardiser les longueurs :\n",
    "\n"
   ]
  },
  {
   "cell_type": "code",
   "execution_count": 0,
   "metadata": {
    "colab": {},
    "colab_type": "code",
    "id": "zZRrUlfkxyqE"
   },
   "outputs": [],
   "source": [
    "max_length=256\n",
    "train_data = pad_sequences(train_data,value=word_index[\"<PAD>\"],padding='post',maxlen=max_length)\n",
    "\n",
    "test_data = pad_sequences(test_data,value=word_index[\"<PAD>\"],padding='post',maxlen=max_length)"
   ]
  },
  {
   "cell_type": "markdown",
   "metadata": {
    "colab_type": "text",
    "id": "mvbFycVUyTfU"
   },
   "source": [
    "Regardons maintenant la longueur des exemples:\n"
   ]
  },
  {
   "cell_type": "code",
   "execution_count": 21,
   "metadata": {
    "colab": {
     "base_uri": "https://localhost:8080/",
     "height": 34
    },
    "colab_type": "code",
    "id": "Xzw1B-UfyUWR",
    "outputId": "e422152a-686b-41e8-a853-29410c1b4166"
   },
   "outputs": [
    {
     "data": {
      "text/plain": [
       "(256, 256)"
      ]
     },
     "execution_count": 21,
     "metadata": {
      "tags": []
     },
     "output_type": "execute_result"
    }
   ],
   "source": [
    "len(train_data[0]), len(train_data[1])\n"
   ]
  },
  {
   "cell_type": "code",
   "execution_count": 22,
   "metadata": {
    "colab": {
     "base_uri": "https://localhost:8080/",
     "height": 340
    },
    "colab_type": "code",
    "id": "8p_cy1Tby4x5",
    "outputId": "1a5ae6db-7966-4579-8902-2956e5252ad9"
   },
   "outputs": [
    {
     "name": "stdout",
     "output_type": "stream",
     "text": [
      "[   1   14   22   16   43  530  973 1622 1385   65  458 4468   66 3941\n",
      "    4  173   36  256    5   25  100   43  838  112   50  670    2    9\n",
      "   35  480  284    5  150    4  172  112  167    2  336  385   39    4\n",
      "  172 4536 1111   17  546   38   13  447    4  192   50   16    6  147\n",
      " 2025   19   14   22    4 1920 4613  469    4   22   71   87   12   16\n",
      "   43  530   38   76   15   13 1247    4   22   17  515   17   12   16\n",
      "  626   18    2    5   62  386   12    8  316    8  106    5    4 2223\n",
      " 5244   16  480   66 3785   33    4  130   12   16   38  619    5   25\n",
      "  124   51   36  135   48   25 1415   33    6   22   12  215   28   77\n",
      "   52    5   14  407   16   82    2    8    4  107  117 5952   15  256\n",
      "    4    2    7 3766    5  723   36   71   43  530  476   26  400  317\n",
      "   46    7    4    2 1029   13  104   88    4  381   15  297   98   32\n",
      " 2071   56   26  141    6  194 7486   18    4  226   22   21  134  476\n",
      "   26  480    5  144   30 5535   18   51   36   28  224   92   25  104\n",
      "    4  226   65   16   38 1334   88   12   16  283    5   16 4472  113\n",
      "  103   32   15   16 5345   19  178   32    0    0    0    0    0    0\n",
      "    0    0    0    0    0    0    0    0    0    0    0    0    0    0\n",
      "    0    0    0    0    0    0    0    0    0    0    0    0    0    0\n",
      "    0    0    0    0]\n"
     ]
    }
   ],
   "source": [
    "print(train_data[0])\n"
   ]
  },
  {
   "cell_type": "markdown",
   "metadata": {
    "colab_type": "text",
    "id": "0SoXzHwWzBAc"
   },
   "source": [
    "## Construire le modèle\n"
   ]
  },
  {
   "cell_type": "markdown",
   "metadata": {
    "colab_type": "text",
    "id": "h_5BnQeBzKw_"
   },
   "source": [
    "Les données d'entrée consistent en un tableau d'indices de mots. Les étiquettes à prédire sont 0 ou 1.  On va utiliser pour construire un modèle pour ce problème de classification : Réseau neuronal\n",
    "\n"
   ]
  },
  {
   "cell_type": "markdown",
   "metadata": {
    "colab_type": "text",
    "id": "CRsZm34kzW1y"
   },
   "source": [
    "## Réseau neuronal\n"
   ]
  },
  {
   "cell_type": "markdown",
   "metadata": {
    "colab_type": "text",
    "id": "8zMtUAuwzgjX"
   },
   "source": [
    "Le réseau de neurones est créé en superposant des couches, ce qui nécessite deux décisions architecturales principales: \n",
    "\n",
    "\n",
    "*   Combien de couches à utiliser dans le modèle? \n",
    "*   Combien d'unités cachées utiliser pour chaque couche? \n"
   ]
  },
  {
   "cell_type": "code",
   "execution_count": 23,
   "metadata": {
    "colab": {
     "base_uri": "https://localhost:8080/",
     "height": 343
    },
    "colab_type": "code",
    "id": "AnoYC3yby_QE",
    "outputId": "affb3991-a563-4142-c76e-3cb3af37c015"
   },
   "outputs": [
    {
     "name": "stdout",
     "output_type": "stream",
     "text": [
      "WARNING:tensorflow:From /usr/local/lib/python3.6/dist-packages/tensorflow/python/ops/resource_variable_ops.py:435: colocate_with (from tensorflow.python.framework.ops) is deprecated and will be removed in a future version.\n",
      "Instructions for updating:\n",
      "Colocations handled automatically by placer.\n",
      "_________________________________________________________________\n",
      "Layer (type)                 Output Shape              Param #   \n",
      "=================================================================\n",
      "embedding (Embedding)        (None, None, 16)          160000    \n",
      "_________________________________________________________________\n",
      "global_average_pooling1d (Gl (None, 16)                0         \n",
      "_________________________________________________________________\n",
      "dense (Dense)                (None, 16)                272       \n",
      "_________________________________________________________________\n",
      "dense_1 (Dense)              (None, 1)                 17        \n",
      "=================================================================\n",
      "Total params: 160,289\n",
      "Trainable params: 160,289\n",
      "Non-trainable params: 0\n",
      "_________________________________________________________________\n"
     ]
    }
   ],
   "source": [
    "# le nombre de vocabulaire utilisé pour les critiques de films (10 000 mots)\n",
    "vocab_size = 10000\n",
    "\n",
    "model = keras.Sequential()\n",
    "model.add(keras.layers.Embedding(vocab_size, 16))\n",
    "model.add(keras.layers.GlobalAveragePooling1D())\n",
    "model.add(keras.layers.Dense(16, activation=tf.nn.relu))\n",
    "model.add(keras.layers.Dense(1, activation=tf.nn.sigmoid))\n",
    "\n",
    "model.summary()"
   ]
  },
  {
   "cell_type": "markdown",
   "metadata": {
    "colab_type": "text",
    "id": "7JMoPAVf00FY"
   },
   "source": [
    "Les couches sont empilées de manière séquentielle pour construire le classificateur:\n",
    "\n",
    "1.   La première couche est une couche d’incorporation. Cette couche prend le vocabulaire codé en entier et recherche le vecteur d’incorporation pour chaque index de mot. Ces vecteurs sont appris en tant que trains modèles. Les vecteurs ajoutent une dimension au tableau de sortie. Les dimensions résultantes sont: (lot, séquence, incorporation). \n",
    "\n",
    "2.   Ensuite, une couche GlobalAveragePooling1D renvoie un vecteur de sortie de longueur fixe pour chaque exemple en effectuant une moyenne sur la dimension de la séquence. Cela permet au modèle de gérer une entrée de longueur variable, de la manière la plus simple possible. \n",
    "3. Ce vecteur de sortie de longueur fixe est acheminé via une couche entièrement connectée (dense) avec 16 unités cachées. \n",
    "\n",
    "4. La dernière couche est densément connectée à un seul nœud de sortie. En utilisant la fonction d’activation sigmoïde, cette valeur est un flottant compris entre 0 et 1, représentant une probabilité ou un niveau de confiance.\n"
   ]
  },
  {
   "cell_type": "markdown",
   "metadata": {
    "colab_type": "text",
    "id": "nPTA34VT1ZkI"
   },
   "source": [
    "**Unités cachées :**\n",
    "\n",
    "Le modèle ci-dessus a deux couches intermédiaires ou \"cachées\", entre l'entrée et la sortie. Le nombre de sorties (unités, nœuds ou neurones) est la dimension de l'espace de représentation pour la couche. En d’autres termes, le degré de liberté dont dispose le réseau pour l’apprentissage d’une représentation interne. \n",
    "\n",
    "Si un modèle a plusieurs unités cachées (un espace de représentation de dimension supérieure) et / ou plusieurs couches, le réseau peut alors apprendre des représentations plus complexes. Toutefois, cela rend le réseau plus onéreux en termes de calcul et peut conduire à l’apprentissage de modèles non souhaités, modèles qui améliorent les performances des données d’apprentissage, mais pas celles des tests. C'est ce qu'on appelle l'overfitting, et nous l'explorerons plus tard."
   ]
  },
  {
   "cell_type": "markdown",
   "metadata": {
    "colab_type": "text",
    "id": "TnEY_B43116A"
   },
   "source": [
    "**Fonction de perte et optimiseur \n",
    "**\n",
    "\n",
    "Un modèle nécessite une fonction de perte et un optimiseur pour la formation. Comme il s'agit d'un problème de classification binaire et que le modèle génère une probabilité (une couche à unité unique avec une activation sigmoïde), nous utiliserons la fonction de perte binary_crossentropy. \n",
    "\n",
    "Ce n'est pas le seul choix pour une fonction de perte, vous pouvez, par exemple, choisir mean_squared_error. Mais, généralement, binary_crossentropy est préférable pour traiter les probabilités - il mesure la \"distance\" entre les distributions de probabilité, ou dans notre cas, entre la distribution de vérité sur le terrain et les prédictions. Plus tard, lorsque nous explorerons des problèmes de régression (par exemple, pour prévoir le prix d’une maison), nous verrons comment utiliser une autre fonction de perte appelée erreur quadratique moyenne.\n",
    "\n",
    "*Maintenant*, configurez le modèle pour utiliser un optimiseur et une fonction de perte:"
   ]
  },
  {
   "cell_type": "code",
   "execution_count": 0,
   "metadata": {
    "colab": {},
    "colab_type": "code",
    "id": "BmV7VrgkA6JU"
   },
   "outputs": [],
   "source": [
    "model.compile(optimizer='adam',\n",
    "              loss='binary_crossentropy',\n",
    "              metrics=['acc'])"
   ]
  },
  {
   "cell_type": "markdown",
   "metadata": {
    "colab_type": "text",
    "id": "xWuAv0q_2XYi"
   },
   "source": [
    "**Créer un jeu de données de validation **\n",
    "\n",
    "Lors de l'apprentissage , nous voulons vérifier l'exactitude du modèle avec des données qu'il n'a jamais vues auparavant. Créez un ensemble de validation en mettant de côté 10 000 exemples à partir des données d’entraînement originales. (Pourquoi ne pas utiliser le jeu de tests maintenant? Notre objectif est de développer et d’ajuster notre modèle en utilisant uniquement les données d’entraînement, puis d’utiliser les données de test une seule fois pour évaluer notre précision)."
   ]
  },
  {
   "cell_type": "code",
   "execution_count": 0,
   "metadata": {
    "cellView": "both",
    "colab": {},
    "colab_type": "code",
    "id": "jnpTlwk7ydzY"
   },
   "outputs": [],
   "source": [
    "x_val = train_data[:10000]\n",
    "partial_x_train = train_data[10000:]\n",
    "\n",
    "y_val = train_labels[:10000]\n",
    "partial_y_train = train_labels[10000:]"
   ]
  },
  {
   "cell_type": "markdown",
   "metadata": {
    "colab_type": "text",
    "id": "z_X1W_lN29sk"
   },
   "source": [
    "**Former le modèle**\n",
    "\n",
    "\n",
    "Former le modèle pour 40 époques en mini-lots de 512 échantillons. Cela représente 40 itérations sur tous les échantillons des tenseurs x_train et y_train. Pendant l'entraînement, surveillez la perte et la précision du modèle sur les 10 000 échantillons de l'ensemble de validation:\n"
   ]
  },
  {
   "cell_type": "code",
   "execution_count": 26,
   "metadata": {
    "colab": {
     "base_uri": "https://localhost:8080/",
     "height": 2485
    },
    "colab_type": "code",
    "id": "_i18oCw6HNHi",
    "outputId": "d28a167f-50b4-44cb-c510-f3587514f4e1"
   },
   "outputs": [
    {
     "name": "stdout",
     "output_type": "stream",
     "text": [
      "Train on 15000 samples, validate on 10000 samples\n",
      "WARNING:tensorflow:From /usr/local/lib/python3.6/dist-packages/tensorflow/python/ops/math_ops.py:3066: to_int32 (from tensorflow.python.ops.math_ops) is deprecated and will be removed in a future version.\n",
      "Instructions for updating:\n",
      "Use tf.cast instead.\n",
      "Epoch 1/70\n",
      "15000/15000 [==============================] - 1s 84us/sample - loss: 0.6908 - acc: 0.5880 - val_loss: 0.6874 - val_acc: 0.6455\n",
      "Epoch 2/70\n",
      "15000/15000 [==============================] - 1s 51us/sample - loss: 0.6811 - acc: 0.7269 - val_loss: 0.6747 - val_acc: 0.7492\n",
      "Epoch 3/70\n",
      "15000/15000 [==============================] - 1s 50us/sample - loss: 0.6616 - acc: 0.7643 - val_loss: 0.6507 - val_acc: 0.7679\n",
      "Epoch 4/70\n",
      "15000/15000 [==============================] - 1s 51us/sample - loss: 0.6296 - acc: 0.7788 - val_loss: 0.6158 - val_acc: 0.7732\n",
      "Epoch 5/70\n",
      "15000/15000 [==============================] - 1s 50us/sample - loss: 0.5870 - acc: 0.8043 - val_loss: 0.5736 - val_acc: 0.8010\n",
      "Epoch 6/70\n",
      "15000/15000 [==============================] - 1s 53us/sample - loss: 0.5379 - acc: 0.8257 - val_loss: 0.5289 - val_acc: 0.8158\n",
      "Epoch 7/70\n",
      "15000/15000 [==============================] - 1s 54us/sample - loss: 0.4877 - acc: 0.8427 - val_loss: 0.4837 - val_acc: 0.8325\n",
      "Epoch 8/70\n",
      "15000/15000 [==============================] - 1s 54us/sample - loss: 0.4410 - acc: 0.8589 - val_loss: 0.4450 - val_acc: 0.8434\n",
      "Epoch 9/70\n",
      "15000/15000 [==============================] - 1s 55us/sample - loss: 0.4000 - acc: 0.8723 - val_loss: 0.4123 - val_acc: 0.8518\n",
      "Epoch 10/70\n",
      "15000/15000 [==============================] - 1s 55us/sample - loss: 0.3650 - acc: 0.8828 - val_loss: 0.3863 - val_acc: 0.8573\n",
      "Epoch 11/70\n",
      "15000/15000 [==============================] - 1s 56us/sample - loss: 0.3359 - acc: 0.8891 - val_loss: 0.3652 - val_acc: 0.8640\n",
      "Epoch 12/70\n",
      "15000/15000 [==============================] - 1s 56us/sample - loss: 0.3115 - acc: 0.8961 - val_loss: 0.3489 - val_acc: 0.8660\n",
      "Epoch 13/70\n",
      "15000/15000 [==============================] - 1s 55us/sample - loss: 0.2913 - acc: 0.9023 - val_loss: 0.3348 - val_acc: 0.8727\n",
      "Epoch 14/70\n",
      "15000/15000 [==============================] - 1s 54us/sample - loss: 0.2730 - acc: 0.9080 - val_loss: 0.3244 - val_acc: 0.8768\n",
      "Epoch 15/70\n",
      "15000/15000 [==============================] - 1s 55us/sample - loss: 0.2574 - acc: 0.9123 - val_loss: 0.3159 - val_acc: 0.8760\n",
      "Epoch 16/70\n",
      "15000/15000 [==============================] - 1s 55us/sample - loss: 0.2433 - acc: 0.9175 - val_loss: 0.3087 - val_acc: 0.8776\n",
      "Epoch 17/70\n",
      "15000/15000 [==============================] - 1s 54us/sample - loss: 0.2302 - acc: 0.9217 - val_loss: 0.3029 - val_acc: 0.8798\n",
      "Epoch 18/70\n",
      "15000/15000 [==============================] - 1s 53us/sample - loss: 0.2185 - acc: 0.9252 - val_loss: 0.2983 - val_acc: 0.8827\n",
      "Epoch 19/70\n",
      "15000/15000 [==============================] - 1s 53us/sample - loss: 0.2079 - acc: 0.9279 - val_loss: 0.2940 - val_acc: 0.8831\n",
      "Epoch 20/70\n",
      "15000/15000 [==============================] - 1s 51us/sample - loss: 0.1983 - acc: 0.9331 - val_loss: 0.2912 - val_acc: 0.8836\n",
      "Epoch 21/70\n",
      "15000/15000 [==============================] - 1s 50us/sample - loss: 0.1884 - acc: 0.9383 - val_loss: 0.2889 - val_acc: 0.8838\n",
      "Epoch 22/70\n",
      "15000/15000 [==============================] - 1s 51us/sample - loss: 0.1802 - acc: 0.9417 - val_loss: 0.2873 - val_acc: 0.8855\n",
      "Epoch 23/70\n",
      "15000/15000 [==============================] - 1s 51us/sample - loss: 0.1719 - acc: 0.9453 - val_loss: 0.2871 - val_acc: 0.8842\n",
      "Epoch 24/70\n",
      "15000/15000 [==============================] - 1s 51us/sample - loss: 0.1647 - acc: 0.9483 - val_loss: 0.2859 - val_acc: 0.8846\n",
      "Epoch 25/70\n",
      "15000/15000 [==============================] - 1s 51us/sample - loss: 0.1573 - acc: 0.9514 - val_loss: 0.2853 - val_acc: 0.8855\n",
      "Epoch 26/70\n",
      "15000/15000 [==============================] - 1s 50us/sample - loss: 0.1507 - acc: 0.9538 - val_loss: 0.2864 - val_acc: 0.8833\n",
      "Epoch 27/70\n",
      "15000/15000 [==============================] - 1s 50us/sample - loss: 0.1445 - acc: 0.9569 - val_loss: 0.2865 - val_acc: 0.8847\n",
      "Epoch 28/70\n",
      "15000/15000 [==============================] - 1s 50us/sample - loss: 0.1386 - acc: 0.9585 - val_loss: 0.2877 - val_acc: 0.8849\n",
      "Epoch 29/70\n",
      "15000/15000 [==============================] - 1s 50us/sample - loss: 0.1332 - acc: 0.9615 - val_loss: 0.2898 - val_acc: 0.8846\n",
      "Epoch 30/70\n",
      "15000/15000 [==============================] - 1s 50us/sample - loss: 0.1276 - acc: 0.9629 - val_loss: 0.2898 - val_acc: 0.8853\n",
      "Epoch 31/70\n",
      "15000/15000 [==============================] - 1s 51us/sample - loss: 0.1220 - acc: 0.9655 - val_loss: 0.2914 - val_acc: 0.8856\n",
      "Epoch 32/70\n",
      "15000/15000 [==============================] - 1s 50us/sample - loss: 0.1171 - acc: 0.9684 - val_loss: 0.2934 - val_acc: 0.8860\n",
      "Epoch 33/70\n",
      "15000/15000 [==============================] - 1s 52us/sample - loss: 0.1123 - acc: 0.9696 - val_loss: 0.2962 - val_acc: 0.8838\n",
      "Epoch 34/70\n",
      "15000/15000 [==============================] - 1s 51us/sample - loss: 0.1080 - acc: 0.9703 - val_loss: 0.2989 - val_acc: 0.8846\n",
      "Epoch 35/70\n",
      "15000/15000 [==============================] - 1s 49us/sample - loss: 0.1038 - acc: 0.9723 - val_loss: 0.3023 - val_acc: 0.8834\n",
      "Epoch 36/70\n",
      "15000/15000 [==============================] - 1s 50us/sample - loss: 0.0997 - acc: 0.9740 - val_loss: 0.3043 - val_acc: 0.8842\n",
      "Epoch 37/70\n",
      "15000/15000 [==============================] - 1s 50us/sample - loss: 0.0955 - acc: 0.9750 - val_loss: 0.3074 - val_acc: 0.8816\n",
      "Epoch 38/70\n",
      "15000/15000 [==============================] - 1s 49us/sample - loss: 0.0918 - acc: 0.9767 - val_loss: 0.3115 - val_acc: 0.8822\n",
      "Epoch 39/70\n",
      "15000/15000 [==============================] - 1s 50us/sample - loss: 0.0886 - acc: 0.9779 - val_loss: 0.3159 - val_acc: 0.8803\n",
      "Epoch 40/70\n",
      "15000/15000 [==============================] - 1s 50us/sample - loss: 0.0847 - acc: 0.9795 - val_loss: 0.3189 - val_acc: 0.8811\n",
      "Epoch 41/70\n",
      "15000/15000 [==============================] - 1s 50us/sample - loss: 0.0814 - acc: 0.9807 - val_loss: 0.3219 - val_acc: 0.8814\n",
      "Epoch 42/70\n",
      "15000/15000 [==============================] - 1s 51us/sample - loss: 0.0779 - acc: 0.9821 - val_loss: 0.3258 - val_acc: 0.8794\n",
      "Epoch 43/70\n",
      "15000/15000 [==============================] - 1s 50us/sample - loss: 0.0750 - acc: 0.9829 - val_loss: 0.3298 - val_acc: 0.8809\n",
      "Epoch 44/70\n",
      "15000/15000 [==============================] - 1s 49us/sample - loss: 0.0721 - acc: 0.9845 - val_loss: 0.3342 - val_acc: 0.8791\n",
      "Epoch 45/70\n",
      "15000/15000 [==============================] - 1s 50us/sample - loss: 0.0693 - acc: 0.9848 - val_loss: 0.3385 - val_acc: 0.8787\n",
      "Epoch 46/70\n",
      "15000/15000 [==============================] - 1s 50us/sample - loss: 0.0664 - acc: 0.9864 - val_loss: 0.3458 - val_acc: 0.8758\n",
      "Epoch 47/70\n",
      "15000/15000 [==============================] - 1s 50us/sample - loss: 0.0640 - acc: 0.9869 - val_loss: 0.3481 - val_acc: 0.8774\n",
      "Epoch 48/70\n",
      "15000/15000 [==============================] - 1s 51us/sample - loss: 0.0612 - acc: 0.9873 - val_loss: 0.3518 - val_acc: 0.8782\n",
      "Epoch 49/70\n",
      "15000/15000 [==============================] - 1s 51us/sample - loss: 0.0590 - acc: 0.9888 - val_loss: 0.3573 - val_acc: 0.8764\n",
      "Epoch 50/70\n",
      "15000/15000 [==============================] - 1s 51us/sample - loss: 0.0563 - acc: 0.9896 - val_loss: 0.3617 - val_acc: 0.8776\n",
      "Epoch 51/70\n",
      "15000/15000 [==============================] - 1s 49us/sample - loss: 0.0541 - acc: 0.9900 - val_loss: 0.3668 - val_acc: 0.8767\n",
      "Epoch 52/70\n",
      "15000/15000 [==============================] - 1s 50us/sample - loss: 0.0520 - acc: 0.9906 - val_loss: 0.3755 - val_acc: 0.8724\n",
      "Epoch 53/70\n",
      "15000/15000 [==============================] - 1s 50us/sample - loss: 0.0503 - acc: 0.9905 - val_loss: 0.3788 - val_acc: 0.8743\n",
      "Epoch 54/70\n",
      "15000/15000 [==============================] - 1s 50us/sample - loss: 0.0479 - acc: 0.9916 - val_loss: 0.3821 - val_acc: 0.8754\n",
      "Epoch 55/70\n",
      "15000/15000 [==============================] - 1s 51us/sample - loss: 0.0459 - acc: 0.9923 - val_loss: 0.3871 - val_acc: 0.8765\n",
      "Epoch 56/70\n",
      "15000/15000 [==============================] - 1s 51us/sample - loss: 0.0439 - acc: 0.9929 - val_loss: 0.3950 - val_acc: 0.8724\n",
      "Epoch 57/70\n",
      "15000/15000 [==============================] - 1s 50us/sample - loss: 0.0419 - acc: 0.9931 - val_loss: 0.3977 - val_acc: 0.8747\n",
      "Epoch 58/70\n",
      "15000/15000 [==============================] - 1s 51us/sample - loss: 0.0407 - acc: 0.9941 - val_loss: 0.4059 - val_acc: 0.8722\n",
      "Epoch 59/70\n",
      "15000/15000 [==============================] - 1s 49us/sample - loss: 0.0386 - acc: 0.9942 - val_loss: 0.4086 - val_acc: 0.8730\n",
      "Epoch 60/70\n",
      "15000/15000 [==============================] - 1s 50us/sample - loss: 0.0370 - acc: 0.9947 - val_loss: 0.4144 - val_acc: 0.8717\n",
      "Epoch 61/70\n",
      "15000/15000 [==============================] - 1s 50us/sample - loss: 0.0354 - acc: 0.9949 - val_loss: 0.4202 - val_acc: 0.8705\n",
      "Epoch 62/70\n",
      "15000/15000 [==============================] - 1s 51us/sample - loss: 0.0339 - acc: 0.9953 - val_loss: 0.4250 - val_acc: 0.8722\n",
      "Epoch 63/70\n",
      "15000/15000 [==============================] - 1s 50us/sample - loss: 0.0325 - acc: 0.9958 - val_loss: 0.4315 - val_acc: 0.8697\n",
      "Epoch 64/70\n",
      "15000/15000 [==============================] - 1s 50us/sample - loss: 0.0312 - acc: 0.9961 - val_loss: 0.4366 - val_acc: 0.8701\n",
      "Epoch 65/70\n",
      "15000/15000 [==============================] - 1s 50us/sample - loss: 0.0300 - acc: 0.9964 - val_loss: 0.4436 - val_acc: 0.8702\n",
      "Epoch 66/70\n",
      "15000/15000 [==============================] - 1s 48us/sample - loss: 0.0291 - acc: 0.9964 - val_loss: 0.4477 - val_acc: 0.8701\n",
      "Epoch 67/70\n",
      "15000/15000 [==============================] - 1s 50us/sample - loss: 0.0274 - acc: 0.9972 - val_loss: 0.4531 - val_acc: 0.8682\n",
      "Epoch 68/70\n",
      "15000/15000 [==============================] - 1s 50us/sample - loss: 0.0263 - acc: 0.9973 - val_loss: 0.4592 - val_acc: 0.8683\n",
      "Epoch 69/70\n",
      "15000/15000 [==============================] - 1s 50us/sample - loss: 0.0255 - acc: 0.9973 - val_loss: 0.4649 - val_acc: 0.8683\n",
      "Epoch 70/70\n",
      "15000/15000 [==============================] - 1s 50us/sample - loss: 0.0247 - acc: 0.9976 - val_loss: 0.4710 - val_acc: 0.8686\n"
     ]
    }
   ],
   "source": [
    "epochs=70\n",
    "history = model.fit(partial_x_train,\n",
    "                    partial_y_train,\n",
    "                    epochs=epochs,\n",
    "                    batch_size=512,\n",
    "                    validation_data=(x_val, y_val),\n",
    "                    verbose=1)"
   ]
  },
  {
   "cell_type": "markdown",
   "metadata": {
    "colab_type": "text",
    "id": "w6-81eNX3gzJ"
   },
   "source": [
    "**Évaluer le modèle **\n",
    "\n",
    "Voyons comment le modèle fonctionne. Deux valeurs seront retournées. Loss (un nombre qui représente notre erreur, les valeurs basses sont meilleures), et la précision."
   ]
  },
  {
   "cell_type": "code",
   "execution_count": 27,
   "metadata": {
    "colab": {
     "base_uri": "https://localhost:8080/",
     "height": 51
    },
    "colab_type": "code",
    "id": "bMBMH_tP3t5X",
    "outputId": "27c93bab-d24d-42e4-d249-3499e864ae13"
   },
   "outputs": [
    {
     "name": "stdout",
     "output_type": "stream",
     "text": [
      "25000/25000 [==============================] - 1s 36us/sample - loss: 0.5043 - acc: 0.8550\n",
      "[0.5042553922891617, 0.855]\n"
     ]
    }
   ],
   "source": [
    "results = model.evaluate(test_data, test_labels)\n",
    "\n",
    "print(results)"
   ]
  },
  {
   "cell_type": "markdown",
   "metadata": {
    "colab_type": "text",
    "id": "y75zcIKu4BzJ"
   },
   "source": [
    "**Graphique de précision et de perte dans le temps\n",
    "**"
   ]
  },
  {
   "cell_type": "code",
   "execution_count": 28,
   "metadata": {
    "colab": {
     "base_uri": "https://localhost:8080/",
     "height": 34
    },
    "colab_type": "code",
    "id": "FQ_7ovC84JVI",
    "outputId": "72c68086-a53c-4f26-96e9-33849b1e9c5e"
   },
   "outputs": [
    {
     "data": {
      "text/plain": [
       "dict_keys(['loss', 'acc', 'val_loss', 'val_acc'])"
      ]
     },
     "execution_count": 28,
     "metadata": {
      "tags": []
     },
     "output_type": "execute_result"
    }
   ],
   "source": [
    "history_dict = history.history\n",
    "history_dict.keys()"
   ]
  },
  {
   "cell_type": "code",
   "execution_count": 29,
   "metadata": {
    "colab": {
     "base_uri": "https://localhost:8080/",
     "height": 294
    },
    "colab_type": "code",
    "id": "YI8KYXQc4Z-1",
    "outputId": "20e339b6-717c-4944-99ac-c882efa2b66e"
   },
   "outputs": [
    {
     "data": {
      "image/png": "[encoded data removed]",
      "text/plain": [
       "<Figure size 432x288 with 1 Axes>"
      ]
     },
     "metadata": {
      "tags": []
     },
     "output_type": "display_data"
    }
   ],
   "source": [
    "acc = history_dict['acc']\n",
    "val_acc = history_dict['val_acc']\n",
    "loss = history_dict['loss']\n",
    "val_loss = history_dict['val_loss']\n",
    "\n",
    "epochs = range(1, len(acc) + 1)\n",
    "\n",
    "plt.plot(epochs, loss, 'bo', label='Training loss')\n",
    "plt.plot(epochs, val_loss, 'b', label='Validation loss')\n",
    "plt.title('Training and validation loss')\n",
    "plt.xlabel('Epochs')\n",
    "plt.ylabel('Loss')\n",
    "plt.legend()\n",
    "\n",
    "plt.show()"
   ]
  },
  {
   "cell_type": "code",
   "execution_count": 30,
   "metadata": {
    "colab": {
     "base_uri": "https://localhost:8080/",
     "height": 294
    },
    "colab_type": "code",
    "id": "v19QkZIb5Inj",
    "outputId": "767832c2-99f4-493e-d184-c23de37dc73b"
   },
   "outputs": [
    {
     "data": {
      "image/png": "[encoded data removed]",
      "text/plain": [
       "<Figure size 432x288 with 1 Axes>"
      ]
     },
     "metadata": {
      "tags": []
     },
     "output_type": "display_data"
    }
   ],
   "source": [
    "plt.clf()   \n",
    "\n",
    "plt.plot(epochs, acc, 'bo', label='Training acc')\n",
    "plt.plot(epochs, val_acc, 'b', label='Validation acc')\n",
    "plt.title('Training and validation accuracy')\n",
    "plt.xlabel('Epochs')\n",
    "plt.ylabel('Accuracy')\n",
    "plt.legend()\n",
    "\n",
    "plt.show()"
   ]
  },
  {
   "cell_type": "markdown",
   "metadata": {
    "colab_type": "text",
    "id": "6Wfatpzj5rKt"
   },
   "source": [
    "*Notez* que la perte d’entraînement diminue à chaque époque et que la précision de l’entraînement augmente avec chaque époque. Ceci est attendu lorsque vous utilisez une optimisation de descente de gradient — cela devrait minimiser la quantité souhaitée à chaque itération. Ce n'est pas le cas pour la perte de validation et la précision - elles semblent culminer après une vingtaine d'époques. Ceci est un exemple de surajustement: le modèle fonctionne mieux sur les données d'apprentissage que sur des données qu'il n'a jamais vues auparavant. Après ce point, le modèle sur-optimise et apprend des représentations spécifiques aux données d'apprentissage qui ne se généralisent pas pour tester des données. Dans ce cas particulier, nous pourrions éviter les sur-ajustements en arrêtant simplement l'entraînement après une vingtaine d'époques. "
   ]
  },
  {
   "cell_type": "markdown",
   "metadata": {
    "colab_type": "text",
    "id": "uphVVduE_sHs"
   },
   "source": [
    "## RNN/LSTM"
   ]
  },
  {
   "cell_type": "markdown",
   "metadata": {
    "colab_type": "text",
    "id": "T_gWhv0cDHII"
   },
   "source": [
    "**Réseaux de neurones récurrents (RNN)**\n",
    "\n",
    "Un réseau de neurones récurrent (voir Figure 1 ) est un réseau de neurones qui tente de modéliser un comportement dépendant du temps ou d'une séquence, tel que la langue, les cours des actions, la demande d'électricité, etc. Cette opération est effectuée en renvoyant la sortie d'une couche de réseau neuronal à l'instant t à l'entrée de la même couche de réseau à l'instant t + 1.\n",
    "\n",
    "Long Short Term Memory networks - simplement appelés «LSTM» (Voir Figure 2) - sont un type particulier de RNN, capable d’apprendre des dépendances à long terme. Ils ont été introduits par Hochreiter et Schmidhuber (1997) et ont été affinés et popularisés par de nombreuses personnes dans les travaux suivants.1 Ils fonctionnent extrêmement bien sur une grande variété de problèmes et sont maintenant largement utilisés.\n",
    "\n",
    "Les LSTM sont explicitement conçus pour éviter le problème de dépendance à long terme. Se souvenir des informations pendant de longues périodes est pratiquement leur comportement par défaut, ce n'est pas quelque chose qu'ils ont du mal à apprendre!\n",
    "\n",
    "Tous les réseaux de neurones récurrents se présentent sous la forme d'une chaîne de modules répétitifs de réseau de neurones. Dans les RNN standard, ce module répétitif aura une structure très simple, telle qu’une seule couche *tanh* .\n",
    "\n",
    "\n",
    "\n",
    "1.   Figure 1: RNN\n",
    "![Figure 1: RNN](http://colah.github.io/posts/2015-08-Understanding-LSTMs/img/LSTM3-SimpleRNN.png)\n",
    "2.   Figure 2 : LSTM\n",
    "\n",
    "\n",
    "\n",
    "![ Figure 2 : LSTM](http://colah.github.io/posts/2015-08-Understanding-LSTMs/img/LSTM3-chain.png)\n"
   ]
  },
  {
   "cell_type": "code",
   "execution_count": 42,
   "metadata": {
    "colab": {
     "base_uri": "https://localhost:8080/",
     "height": 513
    },
    "colab_type": "code",
    "id": "UzCPQfNP_q35",
    "outputId": "a3ecab69-d12d-42dd-c108-b83e8bb33f95"
   },
   "outputs": [
    {
     "name": "stdout",
     "output_type": "stream",
     "text": [
      "WARNING:tensorflow:From /usr/local/lib/python3.6/dist-packages/keras/backend/tensorflow_backend.py:3445: calling dropout (from tensorflow.python.ops.nn_ops) with keep_prob is deprecated and will be removed in a future version.\n",
      "Instructions for updating:\n",
      "Please use `rate` instead of `keep_prob`. Rate should be set to `rate = 1 - keep_prob`.\n",
      "_________________________________________________________________\n",
      "Layer (type)                 Output Shape              Param #   \n",
      "=================================================================\n",
      "embedding_3 (Embedding)      (None, 500, 32)           160000    \n",
      "_________________________________________________________________\n",
      "dropout_1 (Dropout)          (None, 500, 32)           0         \n",
      "_________________________________________________________________\n",
      "lstm_1 (LSTM)                (None, 100)               53200     \n",
      "_________________________________________________________________\n",
      "dropout_2 (Dropout)          (None, 100)               0         \n",
      "_________________________________________________________________\n",
      "dense_1 (Dense)              (None, 1)                 101       \n",
      "=================================================================\n",
      "Total params: 213,301\n",
      "Trainable params: 213,301\n",
      "Non-trainable params: 0\n",
      "_________________________________________________________________\n",
      "None\n",
      "Epoch 1/3\n",
      "25000/25000 [==============================] - 414s 17ms/step - loss: 0.4664 - acc: 0.7756\n",
      "Epoch 2/3\n",
      "25000/25000 [==============================] - 412s 16ms/step - loss: 0.3058 - acc: 0.8766\n",
      "Epoch 3/3\n",
      "25000/25000 [==============================] - 416s 17ms/step - loss: 0.2614 - acc: 0.8978\n",
      "Accuracy: 87.58%\n"
     ]
    }
   ],
   "source": [
    "# fixer un random seed pour la reproductibilité\n",
    "np.random.seed(7)\n",
    "# charger le jeu de données mais ne garde que les n premiers mots, remet à zéro le reste\n",
    "top_words = 5000\n",
    "(X_train, y_train), (X_test, y_test) = imdb.load_data(num_words=top_words)\n",
    "# pader les matrices pour éviter le problème de non compatibilité des dimensions\n",
    "max_review_length = 500\n",
    "X_train = sequence.pad_sequences(X_train, maxlen=max_review_length)\n",
    "X_test = sequence.pad_sequences(X_test, maxlen=max_review_length)\n",
    "# Créer le modele\n",
    "embedding_vecor_length = 32\n",
    "model = Sequential()\n",
    "model.add(Embedding(top_words, embedding_vecor_length, input_length=max_review_length))\n",
    "model.add(Dropout(0.2))\n",
    "model.add(LSTM(100))\n",
    "model.add(Dropout(0.2))\n",
    "model.add(Dense(1, activation='sigmoid'))\n",
    "model.compile(loss='binary_crossentropy', optimizer='adam', metrics=['accuracy'])\n",
    "print(model.summary())\n",
    "model.fit(X_train, y_train, epochs=3, batch_size=64)\n",
    "# Evaluation du modèle \n",
    "scores = model.evaluate(X_test, y_test, verbose=0)\n",
    "print(\"Accuracy: %.2f%%\" % (scores[1]*100))"
   ]
  },
  {
   "cell_type": "markdown",
   "metadata": {},
   "source": [
    "On obtient au final une accuracy de 87.71%% avec  LSTM mais on perds beacoup on niveau de la compléxité temporelle.\n"
   ]
  },
  {
   "cell_type": "code",
   "execution_count": null,
   "metadata": {},
   "outputs": [],
   "source": []
  }
 ],
 "metadata": {
  "colab": {
   "collapsed_sections": [],
   "name": "Projet ML : NLP",
   "provenance": [],
   "version": "0.3.2"
  },
  "kernelspec": {
   "display_name": "Python 3",
   "language": "python",
   "name": "python3"
  },
  "language_info": {
   "codemirror_mode": {
    "name": "ipython",
    "version": 3
   },
   "file_extension": ".py",
   "mimetype": "text/x-python",
   "name": "python",
   "nbconvert_exporter": "python",
   "pygments_lexer": "ipython3",
   "version": "3.7.1"
  }
 },
 "nbformat": 4,
 "nbformat_minor": 1
}
